{
  "nbformat": 4,
  "nbformat_minor": 0,
  "metadata": {
    "colab": {
      "provenance": [],
      "authorship_tag": "ABX9TyMS3HnS7+4+agF4jSgexFKi",
      "include_colab_link": true
    },
    "kernelspec": {
      "name": "python3",
      "display_name": "Python 3"
    },
    "language_info": {
      "name": "python"
    }
  },
  "cells": [
    {
      "cell_type": "markdown",
      "metadata": {
        "id": "view-in-github",
        "colab_type": "text"
      },
      "source": [
        "<a href=\"https://colab.research.google.com/github/jeffgillan/Drone-Imagery-Analysis/blob/master/notebooks/STAC_crawl.ipynb\" target=\"_parent\"><img src=\"https://colab.research.google.com/assets/colab-badge.svg\" alt=\"Open In Colab\"/></a>"
      ]
    },
    {
      "cell_type": "code",
      "execution_count": 1,
      "metadata": {
        "id": "RV3TRHtNSJl_",
        "outputId": "fc4ef502-7226-4fe8-fb7d-7f6c2b11b1bc",
        "colab": {
          "base_uri": "https://localhost:8080/"
        }
      },
      "outputs": [
        {
          "output_type": "stream",
          "name": "stdout",
          "text": [
            "\u001b[?25l     \u001b[90m━━━━━━━━━━━━━━━━━━━━━━━━━━━━━━━━━━━━━━━━\u001b[0m \u001b[32m0.0/181.6 kB\u001b[0m \u001b[31m?\u001b[0m eta \u001b[36m-:--:--\u001b[0m\r\u001b[2K     \u001b[91m━━━━━━━━━━━━━━━━━━━━━━━━━━━━━━━━━━━━━━\u001b[0m\u001b[90m╺\u001b[0m\u001b[90m━\u001b[0m \u001b[32m174.1/181.6 kB\u001b[0m \u001b[31m6.7 MB/s\u001b[0m eta \u001b[36m0:00:01\u001b[0m\r\u001b[2K     \u001b[90m━━━━━━━━━━━━━━━━━━━━━━━━━━━━━━━━━━━━━━━━\u001b[0m \u001b[32m181.6/181.6 kB\u001b[0m \u001b[31m4.9 MB/s\u001b[0m eta \u001b[36m0:00:00\u001b[0m\n",
            "\u001b[?25h"
          ]
        }
      ],
      "source": [
        "# Install pystac_client. This library is used to crawl SpatioTemporal Asset Catalogs (STAC)\n",
        "!pip install pystac_client --quiet\n",
        "!pip install planetary_computer --quiet"
      ]
    },
    {
      "cell_type": "code",
      "source": [
        "##Install library to work with raster images\n",
        "\n",
        "! pip install rasterio --quiet"
      ],
      "metadata": {
        "colab": {
          "base_uri": "https://localhost:8080/"
        },
        "id": "UIwLAP7jqtQw",
        "outputId": "2b28b886-e0c5-414d-ae25-58480e37410b"
      },
      "execution_count": 2,
      "outputs": [
        {
          "output_type": "stream",
          "name": "stdout",
          "text": [
            "\u001b[2K     \u001b[90m━━━━━━━━━━━━━━━━━━━━━━━━━━━━━━━━━━━━━━━━\u001b[0m \u001b[32m20.6/20.6 MB\u001b[0m \u001b[31m21.7 MB/s\u001b[0m eta \u001b[36m0:00:00\u001b[0m\n",
            "\u001b[?25h"
          ]
        }
      ]
    },
    {
      "cell_type": "code",
      "source": [
        "#Bring the libraries into the running environment\n",
        "\n",
        "import pystac_client\n",
        "import planetary_computer"
      ],
      "metadata": {
        "id": "DzXuy4ByTq6k"
      },
      "execution_count": 3,
      "outputs": []
    },
    {
      "cell_type": "code",
      "source": [
        "import rasterio\n",
        "from rasterio.plot import show\n",
        "import matplotlib.pyplot as plt\n",
        "import requests\n",
        "import numpy as np\n",
        "\n",
        "\n",
        "\n"
      ],
      "metadata": {
        "id": "tOtOweoYqB6a"
      },
      "execution_count": 4,
      "outputs": []
    },
    {
      "cell_type": "code",
      "source": [
        "from pystac_client import Client\n",
        "catalog = Client.open('https://landsatlook.usgs.gov/stac-server/')\n",
        "catalog.title\n",
        "\n",
        "collections = list(catalog.get_collections())\n",
        "\n",
        "# Print the number of collections\n",
        "print(f\"Number of collections in the base catalog: {len(collections)}\")\n"
      ],
      "metadata": {
        "colab": {
          "base_uri": "https://localhost:8080/"
        },
        "id": "NrNwSPilW0gg",
        "outputId": "f62c8295-50b2-4056-c88d-fd8f6ca75ec6"
      },
      "execution_count": 6,
      "outputs": [
        {
          "output_type": "stream",
          "name": "stdout",
          "text": [
            "Number of collections in the base catalog: 14\n"
          ]
        }
      ]
    },
    {
      "cell_type": "code",
      "source": [
        "# Print the names (or IDs) and descriptions of each collection\n",
        "for collection in collections:\n",
        "    print(f\"ID: {collection.id}\")\n",
        "    print(f\"Title: {collection.title}\")  # Optional: if you want to print the title as well\n",
        "    print(f\"Description: {collection.description}\")"
      ],
      "metadata": {
        "id": "v8iAvHpFkwQ_"
      },
      "execution_count": null,
      "outputs": []
    },
    {
      "cell_type": "code",
      "source": [
        "#Do a temporal and geographic box search\n",
        "time_range = \"2020-12-01/2020-12-31\"\n",
        "bbox = [-111.185821, 32.047978, -110.690757, 32.41685]\n",
        "\n",
        "search = catalog.search(collections=[\"landsat-c2ard-sr\"], bbox=bbox, datetime=time_range)\n",
        "items = search.item_collection()\n",
        "\n",
        "# Print the total number of items found\n",
        "print(f\"Total number of items found: {len(items)}\")\n",
        "\n",
        "for item in items:\n",
        "    print(f\"Item ID: {item.id}\")\n",
        "\n",
        "    # Print the asset names (keys) for each item\n",
        "    print(\"Assets:\")\n",
        "    for asset_key in item.assets:\n",
        "        print(f\"  - {asset_key}: {item.assets[asset_key].href}\")\n",
        "    print(\"---------------------------------------------------\")"
      ],
      "metadata": {
        "colab": {
          "base_uri": "https://localhost:8080/"
        },
        "id": "pU7Fj2sQSXyP",
        "outputId": "8f8225b6-5a54-444c-8bac-b6a6fe92eb08"
      },
      "execution_count": 26,
      "outputs": [
        {
          "output_type": "stream",
          "name": "stdout",
          "text": [
            "Total number of items found: 7\n",
            "Item ID: LE07_CU_007014_20201231_20210504_02_SR\n",
            "Assets:\n",
            "  - thumbnail: https://landsatlook.usgs.gov/tile/collection02/etm/2020/CU/007/014/LE07_CU_007014_20201231_20210504_02/LE07_CU_007014_20201231_20210504_02_thumb_small.jpeg\n",
            "  - reduced_resolution_browse: https://landsatlook.usgs.gov/tile/collection02/etm/2020/CU/007/014/LE07_CU_007014_20201231_20210504_02/LE07_CU_007014_20201231_20210504_02_thumb_large.jpeg\n",
            "  - index: https://landsatlook.usgs.gov/stac-browser/collection02/etm/2020/CU/007/014/LE07_CU_007014_20201231_20210504_02/LE07_CU_007014_20201231_20210504_02\n",
            "  - blue: https://landsatlook.usgs.gov/tile/collection02/etm/2020/CU/007/014/LE07_CU_007014_20201231_20210504_02/LE07_CU_007014_20201231_20210504_02_SR_B1.TIF\n",
            "  - green: https://landsatlook.usgs.gov/tile/collection02/etm/2020/CU/007/014/LE07_CU_007014_20201231_20210504_02/LE07_CU_007014_20201231_20210504_02_SR_B2.TIF\n",
            "  - red: https://landsatlook.usgs.gov/tile/collection02/etm/2020/CU/007/014/LE07_CU_007014_20201231_20210504_02/LE07_CU_007014_20201231_20210504_02_SR_B3.TIF\n",
            "  - nir08: https://landsatlook.usgs.gov/tile/collection02/etm/2020/CU/007/014/LE07_CU_007014_20201231_20210504_02/LE07_CU_007014_20201231_20210504_02_SR_B4.TIF\n",
            "  - swir16: https://landsatlook.usgs.gov/tile/collection02/etm/2020/CU/007/014/LE07_CU_007014_20201231_20210504_02/LE07_CU_007014_20201231_20210504_02_SR_B5.TIF\n",
            "  - swir22: https://landsatlook.usgs.gov/tile/collection02/etm/2020/CU/007/014/LE07_CU_007014_20201231_20210504_02/LE07_CU_007014_20201231_20210504_02_SR_B7.TIF\n",
            "  - atmos_opacity: https://landsatlook.usgs.gov/tile/collection02/etm/2020/CU/007/014/LE07_CU_007014_20201231_20210504_02/LE07_CU_007014_20201231_20210504_02_SR_ATMOS_OPACITY.TIF\n",
            "  - cloud_qa: https://landsatlook.usgs.gov/tile/collection02/etm/2020/CU/007/014/LE07_CU_007014_20201231_20210504_02/LE07_CU_007014_20201231_20210504_02_SR_CLOUD_QA.TIF\n",
            "  - qa_pixel: https://landsatlook.usgs.gov/tile/collection02/etm/2020/CU/007/014/LE07_CU_007014_20201231_20210504_02/LE07_CU_007014_20201231_20210504_02_QA_PIXEL.TIF\n",
            "  - qa_radsat: https://landsatlook.usgs.gov/tile/collection02/etm/2020/CU/007/014/LE07_CU_007014_20201231_20210504_02/LE07_CU_007014_20201231_20210504_02_QA_RADSAT.TIF\n",
            "  - qa_lineage: https://landsatlook.usgs.gov/tile/collection02/etm/2020/CU/007/014/LE07_CU_007014_20201231_20210504_02/LE07_CU_007014_20201231_20210504_02_QA_LINEAGE.TIF\n",
            "---------------------------------------------------\n",
            "Item ID: LE07_CU_007014_20201224_20210504_02_SR\n",
            "Assets:\n",
            "  - thumbnail: https://landsatlook.usgs.gov/tile/collection02/etm/2020/CU/007/014/LE07_CU_007014_20201224_20210504_02/LE07_CU_007014_20201224_20210504_02_thumb_small.jpeg\n",
            "  - reduced_resolution_browse: https://landsatlook.usgs.gov/tile/collection02/etm/2020/CU/007/014/LE07_CU_007014_20201224_20210504_02/LE07_CU_007014_20201224_20210504_02_thumb_large.jpeg\n",
            "  - index: https://landsatlook.usgs.gov/stac-browser/collection02/etm/2020/CU/007/014/LE07_CU_007014_20201224_20210504_02/LE07_CU_007014_20201224_20210504_02\n",
            "  - blue: https://landsatlook.usgs.gov/tile/collection02/etm/2020/CU/007/014/LE07_CU_007014_20201224_20210504_02/LE07_CU_007014_20201224_20210504_02_SR_B1.TIF\n",
            "  - green: https://landsatlook.usgs.gov/tile/collection02/etm/2020/CU/007/014/LE07_CU_007014_20201224_20210504_02/LE07_CU_007014_20201224_20210504_02_SR_B2.TIF\n",
            "  - red: https://landsatlook.usgs.gov/tile/collection02/etm/2020/CU/007/014/LE07_CU_007014_20201224_20210504_02/LE07_CU_007014_20201224_20210504_02_SR_B3.TIF\n",
            "  - nir08: https://landsatlook.usgs.gov/tile/collection02/etm/2020/CU/007/014/LE07_CU_007014_20201224_20210504_02/LE07_CU_007014_20201224_20210504_02_SR_B4.TIF\n",
            "  - swir16: https://landsatlook.usgs.gov/tile/collection02/etm/2020/CU/007/014/LE07_CU_007014_20201224_20210504_02/LE07_CU_007014_20201224_20210504_02_SR_B5.TIF\n",
            "  - swir22: https://landsatlook.usgs.gov/tile/collection02/etm/2020/CU/007/014/LE07_CU_007014_20201224_20210504_02/LE07_CU_007014_20201224_20210504_02_SR_B7.TIF\n",
            "  - atmos_opacity: https://landsatlook.usgs.gov/tile/collection02/etm/2020/CU/007/014/LE07_CU_007014_20201224_20210504_02/LE07_CU_007014_20201224_20210504_02_SR_ATMOS_OPACITY.TIF\n",
            "  - cloud_qa: https://landsatlook.usgs.gov/tile/collection02/etm/2020/CU/007/014/LE07_CU_007014_20201224_20210504_02/LE07_CU_007014_20201224_20210504_02_SR_CLOUD_QA.TIF\n",
            "  - qa_pixel: https://landsatlook.usgs.gov/tile/collection02/etm/2020/CU/007/014/LE07_CU_007014_20201224_20210504_02/LE07_CU_007014_20201224_20210504_02_QA_PIXEL.TIF\n",
            "  - qa_radsat: https://landsatlook.usgs.gov/tile/collection02/etm/2020/CU/007/014/LE07_CU_007014_20201224_20210504_02/LE07_CU_007014_20201224_20210504_02_QA_RADSAT.TIF\n",
            "  - qa_lineage: https://landsatlook.usgs.gov/tile/collection02/etm/2020/CU/007/014/LE07_CU_007014_20201224_20210504_02/LE07_CU_007014_20201224_20210504_02_QA_LINEAGE.TIF\n",
            "---------------------------------------------------\n",
            "Item ID: LC08_CU_007014_20201223_20210504_02_SR\n",
            "Assets:\n",
            "  - thumbnail: https://landsatlook.usgs.gov/tile/collection02/oli-tirs/2020/CU/007/014/LC08_CU_007014_20201223_20210504_02/LC08_CU_007014_20201223_20210504_02_thumb_small.jpeg\n",
            "  - reduced_resolution_browse: https://landsatlook.usgs.gov/tile/collection02/oli-tirs/2020/CU/007/014/LC08_CU_007014_20201223_20210504_02/LC08_CU_007014_20201223_20210504_02_thumb_large.jpeg\n",
            "  - index: https://landsatlook.usgs.gov/stac-browser/collection02/oli-tirs/2020/CU/007/014/LC08_CU_007014_20201223_20210504_02/LC08_CU_007014_20201223_20210504_02\n",
            "  - coastal: https://landsatlook.usgs.gov/tile/collection02/oli-tirs/2020/CU/007/014/LC08_CU_007014_20201223_20210504_02/LC08_CU_007014_20201223_20210504_02_SR_B1.TIF\n",
            "  - blue: https://landsatlook.usgs.gov/tile/collection02/oli-tirs/2020/CU/007/014/LC08_CU_007014_20201223_20210504_02/LC08_CU_007014_20201223_20210504_02_SR_B2.TIF\n",
            "  - green: https://landsatlook.usgs.gov/tile/collection02/oli-tirs/2020/CU/007/014/LC08_CU_007014_20201223_20210504_02/LC08_CU_007014_20201223_20210504_02_SR_B3.TIF\n",
            "  - red: https://landsatlook.usgs.gov/tile/collection02/oli-tirs/2020/CU/007/014/LC08_CU_007014_20201223_20210504_02/LC08_CU_007014_20201223_20210504_02_SR_B4.TIF\n",
            "  - nir08: https://landsatlook.usgs.gov/tile/collection02/oli-tirs/2020/CU/007/014/LC08_CU_007014_20201223_20210504_02/LC08_CU_007014_20201223_20210504_02_SR_B5.TIF\n",
            "  - swir16: https://landsatlook.usgs.gov/tile/collection02/oli-tirs/2020/CU/007/014/LC08_CU_007014_20201223_20210504_02/LC08_CU_007014_20201223_20210504_02_SR_B6.TIF\n",
            "  - swir22: https://landsatlook.usgs.gov/tile/collection02/oli-tirs/2020/CU/007/014/LC08_CU_007014_20201223_20210504_02/LC08_CU_007014_20201223_20210504_02_SR_B7.TIF\n",
            "  - qa_aerosol: https://landsatlook.usgs.gov/tile/collection02/oli-tirs/2020/CU/007/014/LC08_CU_007014_20201223_20210504_02/LC08_CU_007014_20201223_20210504_02_SR_QA_AEROSOL.TIF\n",
            "  - qa_pixel: https://landsatlook.usgs.gov/tile/collection02/oli-tirs/2020/CU/007/014/LC08_CU_007014_20201223_20210504_02/LC08_CU_007014_20201223_20210504_02_QA_PIXEL.TIF\n",
            "  - qa_radsat: https://landsatlook.usgs.gov/tile/collection02/oli-tirs/2020/CU/007/014/LC08_CU_007014_20201223_20210504_02/LC08_CU_007014_20201223_20210504_02_QA_RADSAT.TIF\n",
            "  - qa_lineage: https://landsatlook.usgs.gov/tile/collection02/oli-tirs/2020/CU/007/014/LC08_CU_007014_20201223_20210504_02/LC08_CU_007014_20201223_20210504_02_QA_LINEAGE.TIF\n",
            "---------------------------------------------------\n",
            "Item ID: LC08_CU_007014_20201216_20210504_02_SR\n",
            "Assets:\n",
            "  - thumbnail: https://landsatlook.usgs.gov/tile/collection02/oli-tirs/2020/CU/007/014/LC08_CU_007014_20201216_20210504_02/LC08_CU_007014_20201216_20210504_02_thumb_small.jpeg\n",
            "  - reduced_resolution_browse: https://landsatlook.usgs.gov/tile/collection02/oli-tirs/2020/CU/007/014/LC08_CU_007014_20201216_20210504_02/LC08_CU_007014_20201216_20210504_02_thumb_large.jpeg\n",
            "  - index: https://landsatlook.usgs.gov/stac-browser/collection02/oli-tirs/2020/CU/007/014/LC08_CU_007014_20201216_20210504_02/LC08_CU_007014_20201216_20210504_02\n",
            "  - coastal: https://landsatlook.usgs.gov/tile/collection02/oli-tirs/2020/CU/007/014/LC08_CU_007014_20201216_20210504_02/LC08_CU_007014_20201216_20210504_02_SR_B1.TIF\n",
            "  - blue: https://landsatlook.usgs.gov/tile/collection02/oli-tirs/2020/CU/007/014/LC08_CU_007014_20201216_20210504_02/LC08_CU_007014_20201216_20210504_02_SR_B2.TIF\n",
            "  - green: https://landsatlook.usgs.gov/tile/collection02/oli-tirs/2020/CU/007/014/LC08_CU_007014_20201216_20210504_02/LC08_CU_007014_20201216_20210504_02_SR_B3.TIF\n",
            "  - red: https://landsatlook.usgs.gov/tile/collection02/oli-tirs/2020/CU/007/014/LC08_CU_007014_20201216_20210504_02/LC08_CU_007014_20201216_20210504_02_SR_B4.TIF\n",
            "  - nir08: https://landsatlook.usgs.gov/tile/collection02/oli-tirs/2020/CU/007/014/LC08_CU_007014_20201216_20210504_02/LC08_CU_007014_20201216_20210504_02_SR_B5.TIF\n",
            "  - swir16: https://landsatlook.usgs.gov/tile/collection02/oli-tirs/2020/CU/007/014/LC08_CU_007014_20201216_20210504_02/LC08_CU_007014_20201216_20210504_02_SR_B6.TIF\n",
            "  - swir22: https://landsatlook.usgs.gov/tile/collection02/oli-tirs/2020/CU/007/014/LC08_CU_007014_20201216_20210504_02/LC08_CU_007014_20201216_20210504_02_SR_B7.TIF\n",
            "  - qa_aerosol: https://landsatlook.usgs.gov/tile/collection02/oli-tirs/2020/CU/007/014/LC08_CU_007014_20201216_20210504_02/LC08_CU_007014_20201216_20210504_02_SR_QA_AEROSOL.TIF\n",
            "  - qa_pixel: https://landsatlook.usgs.gov/tile/collection02/oli-tirs/2020/CU/007/014/LC08_CU_007014_20201216_20210504_02/LC08_CU_007014_20201216_20210504_02_QA_PIXEL.TIF\n",
            "  - qa_radsat: https://landsatlook.usgs.gov/tile/collection02/oli-tirs/2020/CU/007/014/LC08_CU_007014_20201216_20210504_02/LC08_CU_007014_20201216_20210504_02_QA_RADSAT.TIF\n",
            "  - qa_lineage: https://landsatlook.usgs.gov/tile/collection02/oli-tirs/2020/CU/007/014/LC08_CU_007014_20201216_20210504_02/LC08_CU_007014_20201216_20210504_02_QA_LINEAGE.TIF\n",
            "---------------------------------------------------\n",
            "Item ID: LE07_CU_007014_20201215_20210504_02_SR\n",
            "Assets:\n",
            "  - thumbnail: https://landsatlook.usgs.gov/tile/collection02/etm/2020/CU/007/014/LE07_CU_007014_20201215_20210504_02/LE07_CU_007014_20201215_20210504_02_thumb_small.jpeg\n",
            "  - reduced_resolution_browse: https://landsatlook.usgs.gov/tile/collection02/etm/2020/CU/007/014/LE07_CU_007014_20201215_20210504_02/LE07_CU_007014_20201215_20210504_02_thumb_large.jpeg\n",
            "  - index: https://landsatlook.usgs.gov/stac-browser/collection02/etm/2020/CU/007/014/LE07_CU_007014_20201215_20210504_02/LE07_CU_007014_20201215_20210504_02\n",
            "  - blue: https://landsatlook.usgs.gov/tile/collection02/etm/2020/CU/007/014/LE07_CU_007014_20201215_20210504_02/LE07_CU_007014_20201215_20210504_02_SR_B1.TIF\n",
            "  - green: https://landsatlook.usgs.gov/tile/collection02/etm/2020/CU/007/014/LE07_CU_007014_20201215_20210504_02/LE07_CU_007014_20201215_20210504_02_SR_B2.TIF\n",
            "  - red: https://landsatlook.usgs.gov/tile/collection02/etm/2020/CU/007/014/LE07_CU_007014_20201215_20210504_02/LE07_CU_007014_20201215_20210504_02_SR_B3.TIF\n",
            "  - nir08: https://landsatlook.usgs.gov/tile/collection02/etm/2020/CU/007/014/LE07_CU_007014_20201215_20210504_02/LE07_CU_007014_20201215_20210504_02_SR_B4.TIF\n",
            "  - swir16: https://landsatlook.usgs.gov/tile/collection02/etm/2020/CU/007/014/LE07_CU_007014_20201215_20210504_02/LE07_CU_007014_20201215_20210504_02_SR_B5.TIF\n",
            "  - swir22: https://landsatlook.usgs.gov/tile/collection02/etm/2020/CU/007/014/LE07_CU_007014_20201215_20210504_02/LE07_CU_007014_20201215_20210504_02_SR_B7.TIF\n",
            "  - atmos_opacity: https://landsatlook.usgs.gov/tile/collection02/etm/2020/CU/007/014/LE07_CU_007014_20201215_20210504_02/LE07_CU_007014_20201215_20210504_02_SR_ATMOS_OPACITY.TIF\n",
            "  - cloud_qa: https://landsatlook.usgs.gov/tile/collection02/etm/2020/CU/007/014/LE07_CU_007014_20201215_20210504_02/LE07_CU_007014_20201215_20210504_02_SR_CLOUD_QA.TIF\n",
            "  - qa_pixel: https://landsatlook.usgs.gov/tile/collection02/etm/2020/CU/007/014/LE07_CU_007014_20201215_20210504_02/LE07_CU_007014_20201215_20210504_02_QA_PIXEL.TIF\n",
            "  - qa_radsat: https://landsatlook.usgs.gov/tile/collection02/etm/2020/CU/007/014/LE07_CU_007014_20201215_20210504_02/LE07_CU_007014_20201215_20210504_02_QA_RADSAT.TIF\n",
            "  - qa_lineage: https://landsatlook.usgs.gov/tile/collection02/etm/2020/CU/007/014/LE07_CU_007014_20201215_20210504_02/LE07_CU_007014_20201215_20210504_02_QA_LINEAGE.TIF\n",
            "---------------------------------------------------\n",
            "Item ID: LE07_CU_007014_20201208_20210504_02_SR\n",
            "Assets:\n",
            "  - thumbnail: https://landsatlook.usgs.gov/tile/collection02/etm/2020/CU/007/014/LE07_CU_007014_20201208_20210504_02/LE07_CU_007014_20201208_20210504_02_thumb_small.jpeg\n",
            "  - reduced_resolution_browse: https://landsatlook.usgs.gov/tile/collection02/etm/2020/CU/007/014/LE07_CU_007014_20201208_20210504_02/LE07_CU_007014_20201208_20210504_02_thumb_large.jpeg\n",
            "  - index: https://landsatlook.usgs.gov/stac-browser/collection02/etm/2020/CU/007/014/LE07_CU_007014_20201208_20210504_02/LE07_CU_007014_20201208_20210504_02\n",
            "  - blue: https://landsatlook.usgs.gov/tile/collection02/etm/2020/CU/007/014/LE07_CU_007014_20201208_20210504_02/LE07_CU_007014_20201208_20210504_02_SR_B1.TIF\n",
            "  - green: https://landsatlook.usgs.gov/tile/collection02/etm/2020/CU/007/014/LE07_CU_007014_20201208_20210504_02/LE07_CU_007014_20201208_20210504_02_SR_B2.TIF\n",
            "  - red: https://landsatlook.usgs.gov/tile/collection02/etm/2020/CU/007/014/LE07_CU_007014_20201208_20210504_02/LE07_CU_007014_20201208_20210504_02_SR_B3.TIF\n",
            "  - nir08: https://landsatlook.usgs.gov/tile/collection02/etm/2020/CU/007/014/LE07_CU_007014_20201208_20210504_02/LE07_CU_007014_20201208_20210504_02_SR_B4.TIF\n",
            "  - swir16: https://landsatlook.usgs.gov/tile/collection02/etm/2020/CU/007/014/LE07_CU_007014_20201208_20210504_02/LE07_CU_007014_20201208_20210504_02_SR_B5.TIF\n",
            "  - swir22: https://landsatlook.usgs.gov/tile/collection02/etm/2020/CU/007/014/LE07_CU_007014_20201208_20210504_02/LE07_CU_007014_20201208_20210504_02_SR_B7.TIF\n",
            "  - atmos_opacity: https://landsatlook.usgs.gov/tile/collection02/etm/2020/CU/007/014/LE07_CU_007014_20201208_20210504_02/LE07_CU_007014_20201208_20210504_02_SR_ATMOS_OPACITY.TIF\n",
            "  - cloud_qa: https://landsatlook.usgs.gov/tile/collection02/etm/2020/CU/007/014/LE07_CU_007014_20201208_20210504_02/LE07_CU_007014_20201208_20210504_02_SR_CLOUD_QA.TIF\n",
            "  - qa_pixel: https://landsatlook.usgs.gov/tile/collection02/etm/2020/CU/007/014/LE07_CU_007014_20201208_20210504_02/LE07_CU_007014_20201208_20210504_02_QA_PIXEL.TIF\n",
            "  - qa_radsat: https://landsatlook.usgs.gov/tile/collection02/etm/2020/CU/007/014/LE07_CU_007014_20201208_20210504_02/LE07_CU_007014_20201208_20210504_02_QA_RADSAT.TIF\n",
            "  - qa_lineage: https://landsatlook.usgs.gov/tile/collection02/etm/2020/CU/007/014/LE07_CU_007014_20201208_20210504_02/LE07_CU_007014_20201208_20210504_02_QA_LINEAGE.TIF\n",
            "---------------------------------------------------\n",
            "Item ID: LC08_CU_007014_20201207_20210504_02_SR\n",
            "Assets:\n",
            "  - thumbnail: https://landsatlook.usgs.gov/tile/collection02/oli-tirs/2020/CU/007/014/LC08_CU_007014_20201207_20210504_02/LC08_CU_007014_20201207_20210504_02_thumb_small.jpeg\n",
            "  - reduced_resolution_browse: https://landsatlook.usgs.gov/tile/collection02/oli-tirs/2020/CU/007/014/LC08_CU_007014_20201207_20210504_02/LC08_CU_007014_20201207_20210504_02_thumb_large.jpeg\n",
            "  - index: https://landsatlook.usgs.gov/stac-browser/collection02/oli-tirs/2020/CU/007/014/LC08_CU_007014_20201207_20210504_02/LC08_CU_007014_20201207_20210504_02\n",
            "  - coastal: https://landsatlook.usgs.gov/tile/collection02/oli-tirs/2020/CU/007/014/LC08_CU_007014_20201207_20210504_02/LC08_CU_007014_20201207_20210504_02_SR_B1.TIF\n",
            "  - blue: https://landsatlook.usgs.gov/tile/collection02/oli-tirs/2020/CU/007/014/LC08_CU_007014_20201207_20210504_02/LC08_CU_007014_20201207_20210504_02_SR_B2.TIF\n",
            "  - green: https://landsatlook.usgs.gov/tile/collection02/oli-tirs/2020/CU/007/014/LC08_CU_007014_20201207_20210504_02/LC08_CU_007014_20201207_20210504_02_SR_B3.TIF\n",
            "  - red: https://landsatlook.usgs.gov/tile/collection02/oli-tirs/2020/CU/007/014/LC08_CU_007014_20201207_20210504_02/LC08_CU_007014_20201207_20210504_02_SR_B4.TIF\n",
            "  - nir08: https://landsatlook.usgs.gov/tile/collection02/oli-tirs/2020/CU/007/014/LC08_CU_007014_20201207_20210504_02/LC08_CU_007014_20201207_20210504_02_SR_B5.TIF\n",
            "  - swir16: https://landsatlook.usgs.gov/tile/collection02/oli-tirs/2020/CU/007/014/LC08_CU_007014_20201207_20210504_02/LC08_CU_007014_20201207_20210504_02_SR_B6.TIF\n",
            "  - swir22: https://landsatlook.usgs.gov/tile/collection02/oli-tirs/2020/CU/007/014/LC08_CU_007014_20201207_20210504_02/LC08_CU_007014_20201207_20210504_02_SR_B7.TIF\n",
            "  - qa_aerosol: https://landsatlook.usgs.gov/tile/collection02/oli-tirs/2020/CU/007/014/LC08_CU_007014_20201207_20210504_02/LC08_CU_007014_20201207_20210504_02_SR_QA_AEROSOL.TIF\n",
            "  - qa_pixel: https://landsatlook.usgs.gov/tile/collection02/oli-tirs/2020/CU/007/014/LC08_CU_007014_20201207_20210504_02/LC08_CU_007014_20201207_20210504_02_QA_PIXEL.TIF\n",
            "  - qa_radsat: https://landsatlook.usgs.gov/tile/collection02/oli-tirs/2020/CU/007/014/LC08_CU_007014_20201207_20210504_02/LC08_CU_007014_20201207_20210504_02_QA_RADSAT.TIF\n",
            "  - qa_lineage: https://landsatlook.usgs.gov/tile/collection02/oli-tirs/2020/CU/007/014/LC08_CU_007014_20201207_20210504_02/LC08_CU_007014_20201207_20210504_02_QA_LINEAGE.TIF\n",
            "---------------------------------------------------\n"
          ]
        }
      ]
    },
    {
      "cell_type": "code",
      "source": [
        "import geopandas"
      ],
      "metadata": {
        "id": "9g5z5L8LfxdU"
      },
      "execution_count": 19,
      "outputs": []
    },
    {
      "cell_type": "code",
      "source": [
        "df = geopandas.GeoDataFrame.from_features(items.to_dict(), crs=\"epsg:4326\")\n",
        "df"
      ],
      "metadata": {
        "id": "2QIkg75zfzxZ",
        "outputId": "3701e915-719e-4fb4-8bf5-65ec3f689810",
        "colab": {
          "base_uri": "https://localhost:8080/",
          "height": 775
        }
      },
      "execution_count": 20,
      "outputs": [
        {
          "output_type": "execute_result",
          "data": {
            "text/plain": [
              "                                            geometry  \\\n",
              "0  POLYGON ((-112.06311 31.50502, -110.52665 31.7...   \n",
              "1  POLYGON ((-110.98534 31.65586, -110.52636 31.7...   \n",
              "2  POLYGON ((-112.09311 31.50066, -110.52636 31.7...   \n",
              "3  POLYGON ((-110.86078 31.67258, -110.52636 31.7...   \n",
              "4  POLYGON ((-112.09311 31.50066, -110.52685 31.7...   \n",
              "5  POLYGON ((-111.00417 31.65332, -110.52636 31.7...   \n",
              "6  POLYGON ((-112.09311 31.50066, -110.52636 31.7...   \n",
              "\n",
              "                 start_datetime                  end_datetime  \\\n",
              "0  2020-12-31T17:16:20.3479967Z  2020-12-31T17:16:44.2400913Z   \n",
              "1  2020-12-24T17:10:38.1788617Z  2020-12-24T17:11:02.0712045Z   \n",
              "2  2020-12-23T17:58:09.1259540Z  2020-12-23T17:58:33.0169940Z   \n",
              "3                           NaN                           NaN   \n",
              "4  2020-12-15T17:17:29.3892952Z  2020-12-15T17:17:53.2809098Z   \n",
              "5  2020-12-08T17:11:50.3659923Z  2020-12-08T17:12:14.2571128Z   \n",
              "6  2020-12-07T17:58:11.1155250Z  2020-12-07T17:58:35.0065650Z   \n",
              "\n",
              "                      datetime   platform  instruments  \\\n",
              "0  2020-12-31T17:16:32.294044Z  LANDSAT_7        [ETM]   \n",
              "1  2020-12-24T17:10:50.125033Z  LANDSAT_7        [ETM]   \n",
              "2  2020-12-23T17:58:21.071474Z  LANDSAT_8  [OLI, TIRS]   \n",
              "3  2020-12-16T17:52:23.518400Z  LANDSAT_8  [OLI, TIRS]   \n",
              "4  2020-12-15T17:17:41.335102Z  LANDSAT_7        [ETM]   \n",
              "5  2020-12-08T17:12:02.311552Z  LANDSAT_7        [ETM]   \n",
              "6  2020-12-07T17:58:23.061045Z  LANDSAT_8  [OLI, TIRS]   \n",
              "\n",
              "  landsat:grid_horizontal landsat:grid_vertical landsat:grid_region  \\\n",
              "0                      07                    14                  CU   \n",
              "1                      07                    14                  CU   \n",
              "2                      07                    14                  CU   \n",
              "3                      07                    14                  CU   \n",
              "4                      07                    14                  CU   \n",
              "5                      07                    14                  CU   \n",
              "6                      07                    14                  CU   \n",
              "\n",
              "   landsat:scene_count  eo:cloud_cover  landsat:cloud_shadow_cover  \\\n",
              "0                    2         66.3332                     10.4581   \n",
              "1                    2        100.0000                      0.0000   \n",
              "2                    2         15.3390                      8.3475   \n",
              "3                    1          0.0175                      0.0522   \n",
              "4                    2          0.0674                      0.0700   \n",
              "5                    2          0.1507                      0.0618   \n",
              "6                    2         14.5915                      2.2484   \n",
              "\n",
              "   landsat:snow_ice_cover  landsat:fill proj:epsg    proj:shape  \\\n",
              "0                  0.0124       18.8851      None  [5000, 5000]   \n",
              "1                  0.0000       93.0905      None  [5000, 5000]   \n",
              "2                  0.0011        3.5181      None  [5000, 5000]   \n",
              "3                  0.0006       94.1125      None  [5000, 5000]   \n",
              "4                  0.0102       18.9629      None  [5000, 5000]   \n",
              "5                  0.0001       92.6755      None  [5000, 5000]   \n",
              "6                  0.0000        3.4753      None  [5000, 5000]   \n",
              "\n",
              "                       proj:transform  \\\n",
              "0  [30, 0, -1515585, 0, -30, 1214805]   \n",
              "1  [30, 0, -1515585, 0, -30, 1214805]   \n",
              "2  [30, 0, -1515585, 0, -30, 1214805]   \n",
              "3  [30, 0, -1515585, 0, -30, 1214805]   \n",
              "4  [30, 0, -1515585, 0, -30, 1214805]   \n",
              "5  [30, 0, -1515585, 0, -30, 1214805]   \n",
              "6  [30, 0, -1515585, 0, -30, 1214805]   \n",
              "\n",
              "                                           proj:wkt2  \\\n",
              "0  PROJCS[\"AEA WGS84\",GEOGCS[\"WGS 84\",DATUM[\"WGS_...   \n",
              "1  PROJCS[\"AEA WGS84\",GEOGCS[\"WGS 84\",DATUM[\"WGS_...   \n",
              "2  PROJCS[\"AEA WGS84\",GEOGCS[\"WGS 84\",DATUM[\"WGS_...   \n",
              "3  PROJCS[\"AEA WGS84\",GEOGCS[\"WGS 84\",DATUM[\"WGS_...   \n",
              "4  PROJCS[\"AEA WGS84\",GEOGCS[\"WGS 84\",DATUM[\"WGS_...   \n",
              "5  PROJCS[\"AEA WGS84\",GEOGCS[\"WGS 84\",DATUM[\"WGS_...   \n",
              "6  PROJCS[\"AEA WGS84\",GEOGCS[\"WGS 84\",DATUM[\"WGS_...   \n",
              "\n",
              "                    created                   updated  \n",
              "0  2022-07-07T13:46:19.451Z  2022-07-12T17:56:32.313Z  \n",
              "1  2022-07-07T13:45:26.992Z  2022-07-12T17:56:08.582Z  \n",
              "2  2022-07-07T13:45:45.141Z  2022-07-12T17:46:32.781Z  \n",
              "3  2022-07-07T13:45:23.209Z  2022-07-12T17:56:15.896Z  \n",
              "4  2022-07-07T13:45:23.061Z  2022-07-12T17:46:14.094Z  \n",
              "5  2022-07-07T13:45:18.915Z  2022-07-12T17:46:33.386Z  \n",
              "6  2022-07-07T13:16:54.996Z  2022-07-12T17:55:46.788Z  "
            ],
            "text/html": [
              "\n",
              "  <div id=\"df-4ccf5c0c-0117-4c91-893e-bd68fba74b61\" class=\"colab-df-container\">\n",
              "    <div>\n",
              "<style scoped>\n",
              "    .dataframe tbody tr th:only-of-type {\n",
              "        vertical-align: middle;\n",
              "    }\n",
              "\n",
              "    .dataframe tbody tr th {\n",
              "        vertical-align: top;\n",
              "    }\n",
              "\n",
              "    .dataframe thead th {\n",
              "        text-align: right;\n",
              "    }\n",
              "</style>\n",
              "<table border=\"1\" class=\"dataframe\">\n",
              "  <thead>\n",
              "    <tr style=\"text-align: right;\">\n",
              "      <th></th>\n",
              "      <th>geometry</th>\n",
              "      <th>start_datetime</th>\n",
              "      <th>end_datetime</th>\n",
              "      <th>datetime</th>\n",
              "      <th>platform</th>\n",
              "      <th>instruments</th>\n",
              "      <th>landsat:grid_horizontal</th>\n",
              "      <th>landsat:grid_vertical</th>\n",
              "      <th>landsat:grid_region</th>\n",
              "      <th>landsat:scene_count</th>\n",
              "      <th>eo:cloud_cover</th>\n",
              "      <th>landsat:cloud_shadow_cover</th>\n",
              "      <th>landsat:snow_ice_cover</th>\n",
              "      <th>landsat:fill</th>\n",
              "      <th>proj:epsg</th>\n",
              "      <th>proj:shape</th>\n",
              "      <th>proj:transform</th>\n",
              "      <th>proj:wkt2</th>\n",
              "      <th>created</th>\n",
              "      <th>updated</th>\n",
              "    </tr>\n",
              "  </thead>\n",
              "  <tbody>\n",
              "    <tr>\n",
              "      <th>0</th>\n",
              "      <td>POLYGON ((-112.06311 31.50502, -110.52665 31.7...</td>\n",
              "      <td>2020-12-31T17:16:20.3479967Z</td>\n",
              "      <td>2020-12-31T17:16:44.2400913Z</td>\n",
              "      <td>2020-12-31T17:16:32.294044Z</td>\n",
              "      <td>LANDSAT_7</td>\n",
              "      <td>[ETM]</td>\n",
              "      <td>07</td>\n",
              "      <td>14</td>\n",
              "      <td>CU</td>\n",
              "      <td>2</td>\n",
              "      <td>66.3332</td>\n",
              "      <td>10.4581</td>\n",
              "      <td>0.0124</td>\n",
              "      <td>18.8851</td>\n",
              "      <td>None</td>\n",
              "      <td>[5000, 5000]</td>\n",
              "      <td>[30, 0, -1515585, 0, -30, 1214805]</td>\n",
              "      <td>PROJCS[\"AEA WGS84\",GEOGCS[\"WGS 84\",DATUM[\"WGS_...</td>\n",
              "      <td>2022-07-07T13:46:19.451Z</td>\n",
              "      <td>2022-07-12T17:56:32.313Z</td>\n",
              "    </tr>\n",
              "    <tr>\n",
              "      <th>1</th>\n",
              "      <td>POLYGON ((-110.98534 31.65586, -110.52636 31.7...</td>\n",
              "      <td>2020-12-24T17:10:38.1788617Z</td>\n",
              "      <td>2020-12-24T17:11:02.0712045Z</td>\n",
              "      <td>2020-12-24T17:10:50.125033Z</td>\n",
              "      <td>LANDSAT_7</td>\n",
              "      <td>[ETM]</td>\n",
              "      <td>07</td>\n",
              "      <td>14</td>\n",
              "      <td>CU</td>\n",
              "      <td>2</td>\n",
              "      <td>100.0000</td>\n",
              "      <td>0.0000</td>\n",
              "      <td>0.0000</td>\n",
              "      <td>93.0905</td>\n",
              "      <td>None</td>\n",
              "      <td>[5000, 5000]</td>\n",
              "      <td>[30, 0, -1515585, 0, -30, 1214805]</td>\n",
              "      <td>PROJCS[\"AEA WGS84\",GEOGCS[\"WGS 84\",DATUM[\"WGS_...</td>\n",
              "      <td>2022-07-07T13:45:26.992Z</td>\n",
              "      <td>2022-07-12T17:56:08.582Z</td>\n",
              "    </tr>\n",
              "    <tr>\n",
              "      <th>2</th>\n",
              "      <td>POLYGON ((-112.09311 31.50066, -110.52636 31.7...</td>\n",
              "      <td>2020-12-23T17:58:09.1259540Z</td>\n",
              "      <td>2020-12-23T17:58:33.0169940Z</td>\n",
              "      <td>2020-12-23T17:58:21.071474Z</td>\n",
              "      <td>LANDSAT_8</td>\n",
              "      <td>[OLI, TIRS]</td>\n",
              "      <td>07</td>\n",
              "      <td>14</td>\n",
              "      <td>CU</td>\n",
              "      <td>2</td>\n",
              "      <td>15.3390</td>\n",
              "      <td>8.3475</td>\n",
              "      <td>0.0011</td>\n",
              "      <td>3.5181</td>\n",
              "      <td>None</td>\n",
              "      <td>[5000, 5000]</td>\n",
              "      <td>[30, 0, -1515585, 0, -30, 1214805]</td>\n",
              "      <td>PROJCS[\"AEA WGS84\",GEOGCS[\"WGS 84\",DATUM[\"WGS_...</td>\n",
              "      <td>2022-07-07T13:45:45.141Z</td>\n",
              "      <td>2022-07-12T17:46:32.781Z</td>\n",
              "    </tr>\n",
              "    <tr>\n",
              "      <th>3</th>\n",
              "      <td>POLYGON ((-110.86078 31.67258, -110.52636 31.7...</td>\n",
              "      <td>NaN</td>\n",
              "      <td>NaN</td>\n",
              "      <td>2020-12-16T17:52:23.518400Z</td>\n",
              "      <td>LANDSAT_8</td>\n",
              "      <td>[OLI, TIRS]</td>\n",
              "      <td>07</td>\n",
              "      <td>14</td>\n",
              "      <td>CU</td>\n",
              "      <td>1</td>\n",
              "      <td>0.0175</td>\n",
              "      <td>0.0522</td>\n",
              "      <td>0.0006</td>\n",
              "      <td>94.1125</td>\n",
              "      <td>None</td>\n",
              "      <td>[5000, 5000]</td>\n",
              "      <td>[30, 0, -1515585, 0, -30, 1214805]</td>\n",
              "      <td>PROJCS[\"AEA WGS84\",GEOGCS[\"WGS 84\",DATUM[\"WGS_...</td>\n",
              "      <td>2022-07-07T13:45:23.209Z</td>\n",
              "      <td>2022-07-12T17:56:15.896Z</td>\n",
              "    </tr>\n",
              "    <tr>\n",
              "      <th>4</th>\n",
              "      <td>POLYGON ((-112.09311 31.50066, -110.52685 31.7...</td>\n",
              "      <td>2020-12-15T17:17:29.3892952Z</td>\n",
              "      <td>2020-12-15T17:17:53.2809098Z</td>\n",
              "      <td>2020-12-15T17:17:41.335102Z</td>\n",
              "      <td>LANDSAT_7</td>\n",
              "      <td>[ETM]</td>\n",
              "      <td>07</td>\n",
              "      <td>14</td>\n",
              "      <td>CU</td>\n",
              "      <td>2</td>\n",
              "      <td>0.0674</td>\n",
              "      <td>0.0700</td>\n",
              "      <td>0.0102</td>\n",
              "      <td>18.9629</td>\n",
              "      <td>None</td>\n",
              "      <td>[5000, 5000]</td>\n",
              "      <td>[30, 0, -1515585, 0, -30, 1214805]</td>\n",
              "      <td>PROJCS[\"AEA WGS84\",GEOGCS[\"WGS 84\",DATUM[\"WGS_...</td>\n",
              "      <td>2022-07-07T13:45:23.061Z</td>\n",
              "      <td>2022-07-12T17:46:14.094Z</td>\n",
              "    </tr>\n",
              "    <tr>\n",
              "      <th>5</th>\n",
              "      <td>POLYGON ((-111.00417 31.65332, -110.52636 31.7...</td>\n",
              "      <td>2020-12-08T17:11:50.3659923Z</td>\n",
              "      <td>2020-12-08T17:12:14.2571128Z</td>\n",
              "      <td>2020-12-08T17:12:02.311552Z</td>\n",
              "      <td>LANDSAT_7</td>\n",
              "      <td>[ETM]</td>\n",
              "      <td>07</td>\n",
              "      <td>14</td>\n",
              "      <td>CU</td>\n",
              "      <td>2</td>\n",
              "      <td>0.1507</td>\n",
              "      <td>0.0618</td>\n",
              "      <td>0.0001</td>\n",
              "      <td>92.6755</td>\n",
              "      <td>None</td>\n",
              "      <td>[5000, 5000]</td>\n",
              "      <td>[30, 0, -1515585, 0, -30, 1214805]</td>\n",
              "      <td>PROJCS[\"AEA WGS84\",GEOGCS[\"WGS 84\",DATUM[\"WGS_...</td>\n",
              "      <td>2022-07-07T13:45:18.915Z</td>\n",
              "      <td>2022-07-12T17:46:33.386Z</td>\n",
              "    </tr>\n",
              "    <tr>\n",
              "      <th>6</th>\n",
              "      <td>POLYGON ((-112.09311 31.50066, -110.52636 31.7...</td>\n",
              "      <td>2020-12-07T17:58:11.1155250Z</td>\n",
              "      <td>2020-12-07T17:58:35.0065650Z</td>\n",
              "      <td>2020-12-07T17:58:23.061045Z</td>\n",
              "      <td>LANDSAT_8</td>\n",
              "      <td>[OLI, TIRS]</td>\n",
              "      <td>07</td>\n",
              "      <td>14</td>\n",
              "      <td>CU</td>\n",
              "      <td>2</td>\n",
              "      <td>14.5915</td>\n",
              "      <td>2.2484</td>\n",
              "      <td>0.0000</td>\n",
              "      <td>3.4753</td>\n",
              "      <td>None</td>\n",
              "      <td>[5000, 5000]</td>\n",
              "      <td>[30, 0, -1515585, 0, -30, 1214805]</td>\n",
              "      <td>PROJCS[\"AEA WGS84\",GEOGCS[\"WGS 84\",DATUM[\"WGS_...</td>\n",
              "      <td>2022-07-07T13:16:54.996Z</td>\n",
              "      <td>2022-07-12T17:55:46.788Z</td>\n",
              "    </tr>\n",
              "  </tbody>\n",
              "</table>\n",
              "</div>\n",
              "    <div class=\"colab-df-buttons\">\n",
              "\n",
              "  <div class=\"colab-df-container\">\n",
              "    <button class=\"colab-df-convert\" onclick=\"convertToInteractive('df-4ccf5c0c-0117-4c91-893e-bd68fba74b61')\"\n",
              "            title=\"Convert this dataframe to an interactive table.\"\n",
              "            style=\"display:none;\">\n",
              "\n",
              "  <svg xmlns=\"http://www.w3.org/2000/svg\" height=\"24px\" viewBox=\"0 -960 960 960\">\n",
              "    <path d=\"M120-120v-720h720v720H120Zm60-500h600v-160H180v160Zm220 220h160v-160H400v160Zm0 220h160v-160H400v160ZM180-400h160v-160H180v160Zm440 0h160v-160H620v160ZM180-180h160v-160H180v160Zm440 0h160v-160H620v160Z\"/>\n",
              "  </svg>\n",
              "    </button>\n",
              "\n",
              "  <style>\n",
              "    .colab-df-container {\n",
              "      display:flex;\n",
              "      gap: 12px;\n",
              "    }\n",
              "\n",
              "    .colab-df-convert {\n",
              "      background-color: #E8F0FE;\n",
              "      border: none;\n",
              "      border-radius: 50%;\n",
              "      cursor: pointer;\n",
              "      display: none;\n",
              "      fill: #1967D2;\n",
              "      height: 32px;\n",
              "      padding: 0 0 0 0;\n",
              "      width: 32px;\n",
              "    }\n",
              "\n",
              "    .colab-df-convert:hover {\n",
              "      background-color: #E2EBFA;\n",
              "      box-shadow: 0px 1px 2px rgba(60, 64, 67, 0.3), 0px 1px 3px 1px rgba(60, 64, 67, 0.15);\n",
              "      fill: #174EA6;\n",
              "    }\n",
              "\n",
              "    .colab-df-buttons div {\n",
              "      margin-bottom: 4px;\n",
              "    }\n",
              "\n",
              "    [theme=dark] .colab-df-convert {\n",
              "      background-color: #3B4455;\n",
              "      fill: #D2E3FC;\n",
              "    }\n",
              "\n",
              "    [theme=dark] .colab-df-convert:hover {\n",
              "      background-color: #434B5C;\n",
              "      box-shadow: 0px 1px 3px 1px rgba(0, 0, 0, 0.15);\n",
              "      filter: drop-shadow(0px 1px 2px rgba(0, 0, 0, 0.3));\n",
              "      fill: #FFFFFF;\n",
              "    }\n",
              "  </style>\n",
              "\n",
              "    <script>\n",
              "      const buttonEl =\n",
              "        document.querySelector('#df-4ccf5c0c-0117-4c91-893e-bd68fba74b61 button.colab-df-convert');\n",
              "      buttonEl.style.display =\n",
              "        google.colab.kernel.accessAllowed ? 'block' : 'none';\n",
              "\n",
              "      async function convertToInteractive(key) {\n",
              "        const element = document.querySelector('#df-4ccf5c0c-0117-4c91-893e-bd68fba74b61');\n",
              "        const dataTable =\n",
              "          await google.colab.kernel.invokeFunction('convertToInteractive',\n",
              "                                                    [key], {});\n",
              "        if (!dataTable) return;\n",
              "\n",
              "        const docLinkHtml = 'Like what you see? Visit the ' +\n",
              "          '<a target=\"_blank\" href=https://colab.research.google.com/notebooks/data_table.ipynb>data table notebook</a>'\n",
              "          + ' to learn more about interactive tables.';\n",
              "        element.innerHTML = '';\n",
              "        dataTable['output_type'] = 'display_data';\n",
              "        await google.colab.output.renderOutput(dataTable, element);\n",
              "        const docLink = document.createElement('div');\n",
              "        docLink.innerHTML = docLinkHtml;\n",
              "        element.appendChild(docLink);\n",
              "      }\n",
              "    </script>\n",
              "  </div>\n",
              "\n",
              "\n",
              "<div id=\"df-773c3203-be0e-428e-b1b8-a82898d786da\">\n",
              "  <button class=\"colab-df-quickchart\" onclick=\"quickchart('df-773c3203-be0e-428e-b1b8-a82898d786da')\"\n",
              "            title=\"Suggest charts\"\n",
              "            style=\"display:none;\">\n",
              "\n",
              "<svg xmlns=\"http://www.w3.org/2000/svg\" height=\"24px\"viewBox=\"0 0 24 24\"\n",
              "     width=\"24px\">\n",
              "    <g>\n",
              "        <path d=\"M19 3H5c-1.1 0-2 .9-2 2v14c0 1.1.9 2 2 2h14c1.1 0 2-.9 2-2V5c0-1.1-.9-2-2-2zM9 17H7v-7h2v7zm4 0h-2V7h2v10zm4 0h-2v-4h2v4z\"/>\n",
              "    </g>\n",
              "</svg>\n",
              "  </button>\n",
              "\n",
              "<style>\n",
              "  .colab-df-quickchart {\n",
              "      --bg-color: #E8F0FE;\n",
              "      --fill-color: #1967D2;\n",
              "      --hover-bg-color: #E2EBFA;\n",
              "      --hover-fill-color: #174EA6;\n",
              "      --disabled-fill-color: #AAA;\n",
              "      --disabled-bg-color: #DDD;\n",
              "  }\n",
              "\n",
              "  [theme=dark] .colab-df-quickchart {\n",
              "      --bg-color: #3B4455;\n",
              "      --fill-color: #D2E3FC;\n",
              "      --hover-bg-color: #434B5C;\n",
              "      --hover-fill-color: #FFFFFF;\n",
              "      --disabled-bg-color: #3B4455;\n",
              "      --disabled-fill-color: #666;\n",
              "  }\n",
              "\n",
              "  .colab-df-quickchart {\n",
              "    background-color: var(--bg-color);\n",
              "    border: none;\n",
              "    border-radius: 50%;\n",
              "    cursor: pointer;\n",
              "    display: none;\n",
              "    fill: var(--fill-color);\n",
              "    height: 32px;\n",
              "    padding: 0;\n",
              "    width: 32px;\n",
              "  }\n",
              "\n",
              "  .colab-df-quickchart:hover {\n",
              "    background-color: var(--hover-bg-color);\n",
              "    box-shadow: 0 1px 2px rgba(60, 64, 67, 0.3), 0 1px 3px 1px rgba(60, 64, 67, 0.15);\n",
              "    fill: var(--button-hover-fill-color);\n",
              "  }\n",
              "\n",
              "  .colab-df-quickchart-complete:disabled,\n",
              "  .colab-df-quickchart-complete:disabled:hover {\n",
              "    background-color: var(--disabled-bg-color);\n",
              "    fill: var(--disabled-fill-color);\n",
              "    box-shadow: none;\n",
              "  }\n",
              "\n",
              "  .colab-df-spinner {\n",
              "    border: 2px solid var(--fill-color);\n",
              "    border-color: transparent;\n",
              "    border-bottom-color: var(--fill-color);\n",
              "    animation:\n",
              "      spin 1s steps(1) infinite;\n",
              "  }\n",
              "\n",
              "  @keyframes spin {\n",
              "    0% {\n",
              "      border-color: transparent;\n",
              "      border-bottom-color: var(--fill-color);\n",
              "      border-left-color: var(--fill-color);\n",
              "    }\n",
              "    20% {\n",
              "      border-color: transparent;\n",
              "      border-left-color: var(--fill-color);\n",
              "      border-top-color: var(--fill-color);\n",
              "    }\n",
              "    30% {\n",
              "      border-color: transparent;\n",
              "      border-left-color: var(--fill-color);\n",
              "      border-top-color: var(--fill-color);\n",
              "      border-right-color: var(--fill-color);\n",
              "    }\n",
              "    40% {\n",
              "      border-color: transparent;\n",
              "      border-right-color: var(--fill-color);\n",
              "      border-top-color: var(--fill-color);\n",
              "    }\n",
              "    60% {\n",
              "      border-color: transparent;\n",
              "      border-right-color: var(--fill-color);\n",
              "    }\n",
              "    80% {\n",
              "      border-color: transparent;\n",
              "      border-right-color: var(--fill-color);\n",
              "      border-bottom-color: var(--fill-color);\n",
              "    }\n",
              "    90% {\n",
              "      border-color: transparent;\n",
              "      border-bottom-color: var(--fill-color);\n",
              "    }\n",
              "  }\n",
              "</style>\n",
              "\n",
              "  <script>\n",
              "    async function quickchart(key) {\n",
              "      const quickchartButtonEl =\n",
              "        document.querySelector('#' + key + ' button');\n",
              "      quickchartButtonEl.disabled = true;  // To prevent multiple clicks.\n",
              "      quickchartButtonEl.classList.add('colab-df-spinner');\n",
              "      try {\n",
              "        const charts = await google.colab.kernel.invokeFunction(\n",
              "            'suggestCharts', [key], {});\n",
              "      } catch (error) {\n",
              "        console.error('Error during call to suggestCharts:', error);\n",
              "      }\n",
              "      quickchartButtonEl.classList.remove('colab-df-spinner');\n",
              "      quickchartButtonEl.classList.add('colab-df-quickchart-complete');\n",
              "    }\n",
              "    (() => {\n",
              "      let quickchartButtonEl =\n",
              "        document.querySelector('#df-773c3203-be0e-428e-b1b8-a82898d786da button');\n",
              "      quickchartButtonEl.style.display =\n",
              "        google.colab.kernel.accessAllowed ? 'block' : 'none';\n",
              "    })();\n",
              "  </script>\n",
              "</div>\n",
              "    </div>\n",
              "  </div>\n"
            ],
            "application/vnd.google.colaboratory.intrinsic+json": {
              "type": "dataframe",
              "variable_name": "df",
              "repr_error": "Out of range float values are not JSON compliant: nan"
            }
          },
          "metadata": {},
          "execution_count": 20
        }
      ]
    },
    {
      "cell_type": "code",
      "source": [
        "selected_item = min(items, key=lambda item: item.properties[\"eo:cloud_cover\"])\n",
        "print(selected_item)"
      ],
      "metadata": {
        "id": "Xu9wX-d1wJ4S",
        "outputId": "fa901475-4c4c-431d-c6cf-4516a6dc4b81",
        "colab": {
          "base_uri": "https://localhost:8080/"
        }
      },
      "execution_count": 34,
      "outputs": [
        {
          "output_type": "stream",
          "name": "stdout",
          "text": [
            "<Item id=LC08_CU_007014_20201216_20210504_02_SR>\n"
          ]
        }
      ]
    },
    {
      "cell_type": "code",
      "source": [
        "import rich.table\n",
        "\n",
        "table = rich.table.Table(\"Asset Key\", \"Description\")\n",
        "for asset_key, asset in selected_item.assets.items():\n",
        "    table.add_row(asset_key, asset.title)\n",
        "\n",
        "table"
      ],
      "metadata": {
        "id": "kjVaJSwngiFu",
        "outputId": "7b454ad6-5b32-46e1-a19d-86acc0adb553",
        "colab": {
          "base_uri": "https://localhost:8080/",
          "height": 314
        }
      },
      "execution_count": 32,
      "outputs": [
        {
          "output_type": "execute_result",
          "data": {
            "text/plain": [
              "┏━━━━━━━━━━━━━━━━━━━━━━━━━━━┳━━━━━━━━━━━━━━━━━━━━━━━━━━━━━━━━━━━━━━━━━━━━━━━━┓\n",
              "┃\u001b[1m \u001b[0m\u001b[1mAsset Key                \u001b[0m\u001b[1m \u001b[0m┃\u001b[1m \u001b[0m\u001b[1mDescription                                   \u001b[0m\u001b[1m \u001b[0m┃\n",
              "┡━━━━━━━━━━━━━━━━━━━━━━━━━━━╇━━━━━━━━━━━━━━━━━━━━━━━━━━━━━━━━━━━━━━━━━━━━━━━━┩\n",
              "│ thumbnail                 │ Thumbnail image                                │\n",
              "│ reduced_resolution_browse │ Reduced resolution browse image                │\n",
              "│ index                     │ HTML index page                                │\n",
              "│ blue                      │ Blue Band (B1)                                 │\n",
              "│ green                     │ Green Band (B2)                                │\n",
              "│ red                       │ Red Band (B3)                                  │\n",
              "│ nir08                     │ Near Infrared Band 0.8 (B4)                    │\n",
              "│ swir16                    │ Short-wave Infrared Band 1.6 (B5)              │\n",
              "│ swir22                    │ Short-wave Infrared Band 2.2 (B7)              │\n",
              "│ atmos_opacity             │ Atmospheric Opacity Band                       │\n",
              "│ cloud_qa                  │ Cloud Quality Analysis Band                    │\n",
              "│ qa_pixel                  │ Pixel Quality Assessment Band                  │\n",
              "│ qa_radsat                 │ Radiometric Saturation Quality Assessment Band │\n",
              "│ qa_lineage                │ Lineage Assessment Band                        │\n",
              "└───────────────────────────┴────────────────────────────────────────────────┘\n"
            ],
            "text/html": [
              "<pre style=\"white-space:pre;overflow-x:auto;line-height:normal;font-family:Menlo,'DejaVu Sans Mono',consolas,'Courier New',monospace\">┏━━━━━━━━━━━━━━━━━━━━━━━━━━━┳━━━━━━━━━━━━━━━━━━━━━━━━━━━━━━━━━━━━━━━━━━━━━━━━┓\n",
              "┃<span style=\"font-weight: bold\"> Asset Key                 </span>┃<span style=\"font-weight: bold\"> Description                                    </span>┃\n",
              "┡━━━━━━━━━━━━━━━━━━━━━━━━━━━╇━━━━━━━━━━━━━━━━━━━━━━━━━━━━━━━━━━━━━━━━━━━━━━━━┩\n",
              "│ thumbnail                 │ Thumbnail image                                │\n",
              "│ reduced_resolution_browse │ Reduced resolution browse image                │\n",
              "│ index                     │ HTML index page                                │\n",
              "│ blue                      │ Blue Band (B1)                                 │\n",
              "│ green                     │ Green Band (B2)                                │\n",
              "│ red                       │ Red Band (B3)                                  │\n",
              "│ nir08                     │ Near Infrared Band 0.8 (B4)                    │\n",
              "│ swir16                    │ Short-wave Infrared Band 1.6 (B5)              │\n",
              "│ swir22                    │ Short-wave Infrared Band 2.2 (B7)              │\n",
              "│ atmos_opacity             │ Atmospheric Opacity Band                       │\n",
              "│ cloud_qa                  │ Cloud Quality Analysis Band                    │\n",
              "│ qa_pixel                  │ Pixel Quality Assessment Band                  │\n",
              "│ qa_radsat                 │ Radiometric Saturation Quality Assessment Band │\n",
              "│ qa_lineage                │ Lineage Assessment Band                        │\n",
              "└───────────────────────────┴────────────────────────────────────────────────┘\n",
              "</pre>\n"
            ]
          },
          "metadata": {},
          "execution_count": 32
        }
      ]
    },
    {
      "cell_type": "code",
      "source": [
        "selected_item.assets[\"thumbnail\"].to_dict()"
      ],
      "metadata": {
        "id": "59_3wIs4giCT",
        "outputId": "81d6a921-7c43-42a3-dc4f-5492f770c39b",
        "colab": {
          "base_uri": "https://localhost:8080/"
        }
      },
      "execution_count": 33,
      "outputs": [
        {
          "output_type": "execute_result",
          "data": {
            "text/plain": [
              "{'href': 'https://landsatlook.usgs.gov/tile/collection02/etm/2020/CU/007/014/LE07_CU_007014_20201224_20210504_02/LE07_CU_007014_20201224_20210504_02_thumb_small.jpeg',\n",
              " 'type': 'image/jpeg',\n",
              " 'title': 'Thumbnail image',\n",
              " 'alternate': {'s3': {'storage:platform': 'AWS',\n",
              "   'storage:requester_pays': True,\n",
              "   'href': 's3://usgs-landsat-ard/collection02/etm/2020/CU/007/014/LE07_CU_007014_20201224_20210504_02/LE07_CU_007014_20201224_20210504_02_thumb_small.jpeg'}},\n",
              " 'roles': ['thumbnail']}"
            ]
          },
          "metadata": {},
          "execution_count": 33
        }
      ]
    },
    {
      "cell_type": "code",
      "source": [
        "from IPython.display import Image\n",
        "\n",
        "Image(url=selected_item.assets[\"thumbnail\"].href, width=500)"
      ],
      "metadata": {
        "id": "PnAj3Qgegh8_",
        "outputId": "52c572ae-4362-42b1-abe0-d99d769e5bef",
        "colab": {
          "base_uri": "https://localhost:8080/",
          "height": 37
        }
      },
      "execution_count": 35,
      "outputs": [
        {
          "output_type": "execute_result",
          "data": {
            "text/html": [
              "<img src=\"https://landsatlook.usgs.gov/tile/collection02/oli-tirs/2020/CU/007/014/LC08_CU_007014_20201216_20210504_02/LC08_CU_007014_20201216_20210504_02_thumb_small.jpeg\" width=\"500\"/>"
            ],
            "text/plain": [
              "<IPython.core.display.Image object>"
            ]
          },
          "metadata": {},
          "execution_count": 35
        }
      ]
    },
    {
      "cell_type": "code",
      "source": [],
      "metadata": {
        "id": "PeKbKboujVNR"
      },
      "execution_count": null,
      "outputs": []
    },
    {
      "cell_type": "code",
      "source": [],
      "metadata": {
        "id": "75ozMpWVjVKw"
      },
      "execution_count": null,
      "outputs": []
    },
    {
      "cell_type": "code",
      "source": [],
      "metadata": {
        "id": "lyvsULJdjVIX"
      },
      "execution_count": null,
      "outputs": []
    },
    {
      "cell_type": "code",
      "source": [
        "cog_path = 'https://landsatlook.usgs.gov/tile/collection02/oli-tirs/2020/CU/007/014/LC08_CU_007014_20201223_20210504_02/LC08_CU_007014_20201223_20210504_02_SR_B2.TIF'"
      ],
      "metadata": {
        "id": "e5KAkX42vD27"
      },
      "execution_count": 50,
      "outputs": []
    },
    {
      "cell_type": "code",
      "source": [
        "save_path = '/content/STAC_test.tif'"
      ],
      "metadata": {
        "id": "29kjHj8KvRJ9"
      },
      "execution_count": 51,
      "outputs": []
    },
    {
      "cell_type": "code",
      "source": [
        "response = requests.post(cog_path)"
      ],
      "metadata": {
        "id": "UWeLIEZIvRG_"
      },
      "execution_count": 52,
      "outputs": []
    },
    {
      "cell_type": "code",
      "source": [
        "if response.status_code == 200:\n",
        "    # Write the content of the response to a file in the specified save path\n",
        "    with open(save_path, 'wb') as file:\n",
        "        file.write(response.content)\n",
        "    print(f\"File downloaded successfully: {save_path}\")\n",
        "else:\n",
        "    print(f\"Failed to download the file. Status code: {response.status_code}\")"
      ],
      "metadata": {
        "colab": {
          "base_uri": "https://localhost:8080/"
        },
        "id": "Dk9MHpVCyhJO",
        "outputId": "33eac44a-f707-45d0-cf7e-f5acc9f63e20"
      },
      "execution_count": 53,
      "outputs": [
        {
          "output_type": "stream",
          "name": "stdout",
          "text": [
            "Failed to download the file. Status code: 403\n"
          ]
        }
      ]
    },
    {
      "cell_type": "code",
      "source": [
        "image_path = '/content/STAC_blue.tif'"
      ],
      "metadata": {
        "id": "u0wIcD-pmjnK"
      },
      "execution_count": 41,
      "outputs": []
    },
    {
      "cell_type": "code",
      "source": [
        "# Open the GeoTIFF file\n",
        "with rasterio.open(image_path) as src:\n",
        "    # Read the image data\n",
        "    image = src.read(1)  # Reading the first band\n",
        "\n",
        "    # Display the image\n",
        "    plt.figure(figsize=(10, 10))\n",
        "    show(image, transform=src.transform, cmap='gray')  # Use 'gray' colormap for single band images\n",
        "    plt.title('GeoTIFF Single Band Image')\n",
        "    plt.show()"
      ],
      "metadata": {
        "id": "emIqN-1tl16-",
        "outputId": "2c5415d7-1a4e-4974-b44e-f23ad56c2fc9",
        "colab": {
          "base_uri": "https://localhost:8080/",
          "height": 599
        }
      },
      "execution_count": 42,
      "outputs": [
        {
          "output_type": "error",
          "ename": "RasterioIOError",
          "evalue": "'/content/STAC_blue.tif' not recognized as a supported file format.",
          "traceback": [
            "\u001b[0;31m---------------------------------------------------------------------------\u001b[0m",
            "\u001b[0;31mCPLE_OpenFailedError\u001b[0m                      Traceback (most recent call last)",
            "\u001b[0;32mrasterio/_base.pyx\u001b[0m in \u001b[0;36mrasterio._base.DatasetBase.__init__\u001b[0;34m()\u001b[0m\n",
            "\u001b[0;32mrasterio/_base.pyx\u001b[0m in \u001b[0;36mrasterio._base.open_dataset\u001b[0;34m()\u001b[0m\n",
            "\u001b[0;32mrasterio/_err.pyx\u001b[0m in \u001b[0;36mrasterio._err.exc_wrap_pointer\u001b[0;34m()\u001b[0m\n",
            "\u001b[0;31mCPLE_OpenFailedError\u001b[0m: '/content/STAC_blue.tif' not recognized as a supported file format.",
            "\nDuring handling of the above exception, another exception occurred:\n",
            "\u001b[0;31mRasterioIOError\u001b[0m                           Traceback (most recent call last)",
            "\u001b[0;32m<ipython-input-42-03a0b92413e3>\u001b[0m in \u001b[0;36m<cell line: 2>\u001b[0;34m()\u001b[0m\n\u001b[1;32m      1\u001b[0m \u001b[0;31m# Open the GeoTIFF file\u001b[0m\u001b[0;34m\u001b[0m\u001b[0;34m\u001b[0m\u001b[0m\n\u001b[0;32m----> 2\u001b[0;31m \u001b[0;32mwith\u001b[0m \u001b[0mrasterio\u001b[0m\u001b[0;34m.\u001b[0m\u001b[0mopen\u001b[0m\u001b[0;34m(\u001b[0m\u001b[0mimage_path\u001b[0m\u001b[0;34m)\u001b[0m \u001b[0;32mas\u001b[0m \u001b[0msrc\u001b[0m\u001b[0;34m:\u001b[0m\u001b[0;34m\u001b[0m\u001b[0;34m\u001b[0m\u001b[0m\n\u001b[0m\u001b[1;32m      3\u001b[0m     \u001b[0;31m# Read the image data\u001b[0m\u001b[0;34m\u001b[0m\u001b[0;34m\u001b[0m\u001b[0m\n\u001b[1;32m      4\u001b[0m     \u001b[0mimage\u001b[0m \u001b[0;34m=\u001b[0m \u001b[0msrc\u001b[0m\u001b[0;34m.\u001b[0m\u001b[0mread\u001b[0m\u001b[0;34m(\u001b[0m\u001b[0;36m1\u001b[0m\u001b[0;34m)\u001b[0m  \u001b[0;31m# Reading the first band\u001b[0m\u001b[0;34m\u001b[0m\u001b[0;34m\u001b[0m\u001b[0m\n\u001b[1;32m      5\u001b[0m \u001b[0;34m\u001b[0m\u001b[0m\n",
            "\u001b[0;32m/usr/local/lib/python3.10/dist-packages/rasterio/env.py\u001b[0m in \u001b[0;36mwrapper\u001b[0;34m(*args, **kwds)\u001b[0m\n\u001b[1;32m    449\u001b[0m \u001b[0;34m\u001b[0m\u001b[0m\n\u001b[1;32m    450\u001b[0m         \u001b[0;32mwith\u001b[0m \u001b[0menv_ctor\u001b[0m\u001b[0;34m(\u001b[0m\u001b[0msession\u001b[0m\u001b[0;34m=\u001b[0m\u001b[0msession\u001b[0m\u001b[0;34m)\u001b[0m\u001b[0;34m:\u001b[0m\u001b[0;34m\u001b[0m\u001b[0;34m\u001b[0m\u001b[0m\n\u001b[0;32m--> 451\u001b[0;31m             \u001b[0;32mreturn\u001b[0m \u001b[0mf\u001b[0m\u001b[0;34m(\u001b[0m\u001b[0;34m*\u001b[0m\u001b[0margs\u001b[0m\u001b[0;34m,\u001b[0m \u001b[0;34m**\u001b[0m\u001b[0mkwds\u001b[0m\u001b[0;34m)\u001b[0m\u001b[0;34m\u001b[0m\u001b[0;34m\u001b[0m\u001b[0m\n\u001b[0m\u001b[1;32m    452\u001b[0m \u001b[0;34m\u001b[0m\u001b[0m\n\u001b[1;32m    453\u001b[0m     \u001b[0;32mreturn\u001b[0m \u001b[0mwrapper\u001b[0m\u001b[0;34m\u001b[0m\u001b[0;34m\u001b[0m\u001b[0m\n",
            "\u001b[0;32m/usr/local/lib/python3.10/dist-packages/rasterio/__init__.py\u001b[0m in \u001b[0;36mopen\u001b[0;34m(fp, mode, driver, width, height, count, crs, transform, dtype, nodata, sharing, **kwargs)\u001b[0m\n\u001b[1;32m    302\u001b[0m \u001b[0;34m\u001b[0m\u001b[0m\n\u001b[1;32m    303\u001b[0m         \u001b[0;32mif\u001b[0m \u001b[0mmode\u001b[0m \u001b[0;34m==\u001b[0m \u001b[0;34m\"r\"\u001b[0m\u001b[0;34m:\u001b[0m\u001b[0;34m\u001b[0m\u001b[0;34m\u001b[0m\u001b[0m\n\u001b[0;32m--> 304\u001b[0;31m             \u001b[0mdataset\u001b[0m \u001b[0;34m=\u001b[0m \u001b[0mDatasetReader\u001b[0m\u001b[0;34m(\u001b[0m\u001b[0mpath\u001b[0m\u001b[0;34m,\u001b[0m \u001b[0mdriver\u001b[0m\u001b[0;34m=\u001b[0m\u001b[0mdriver\u001b[0m\u001b[0;34m,\u001b[0m \u001b[0msharing\u001b[0m\u001b[0;34m=\u001b[0m\u001b[0msharing\u001b[0m\u001b[0;34m,\u001b[0m \u001b[0;34m**\u001b[0m\u001b[0mkwargs\u001b[0m\u001b[0;34m)\u001b[0m\u001b[0;34m\u001b[0m\u001b[0;34m\u001b[0m\u001b[0m\n\u001b[0m\u001b[1;32m    305\u001b[0m         \u001b[0;32melif\u001b[0m \u001b[0mmode\u001b[0m \u001b[0;34m==\u001b[0m \u001b[0;34m\"r+\"\u001b[0m\u001b[0;34m:\u001b[0m\u001b[0;34m\u001b[0m\u001b[0;34m\u001b[0m\u001b[0m\n\u001b[1;32m    306\u001b[0m             dataset = get_writer_for_path(path, driver=driver)(\n",
            "\u001b[0;32mrasterio/_base.pyx\u001b[0m in \u001b[0;36mrasterio._base.DatasetBase.__init__\u001b[0;34m()\u001b[0m\n",
            "\u001b[0;31mRasterioIOError\u001b[0m: '/content/STAC_blue.tif' not recognized as a supported file format."
          ]
        }
      ]
    }
  ]
}